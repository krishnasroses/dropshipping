{
 "cells": [
  {
   "cell_type": "code",
   "execution_count": 8,
   "id": "b21794af",
   "metadata": {},
   "outputs": [],
   "source": [
    "import pandas as pd\n",
    "import json"
   ]
  },
  {
   "cell_type": "code",
   "execution_count": 14,
   "id": "b853847c",
   "metadata": {},
   "outputs": [
    {
     "data": {
      "application/vnd.microsoft.datawrangler.viewer.v0+json": {
       "columns": [
        {
         "name": "index",
         "rawType": "int64",
         "type": "integer"
        },
        {
         "name": "id",
         "rawType": "object",
         "type": "string"
        },
        {
         "name": "name",
         "rawType": "object",
         "type": "string"
        },
        {
         "name": "description",
         "rawType": "object",
         "type": "string"
        },
        {
         "name": "image_url",
         "rawType": "object",
         "type": "string"
        },
        {
         "name": "type",
         "rawType": "object",
         "type": "string"
        },
        {
         "name": "size",
         "rawType": "object",
         "type": "string"
        },
        {
         "name": "price",
         "rawType": "float64",
         "type": "float"
        },
        {
         "name": "currency",
         "rawType": "object",
         "type": "string"
        }
       ],
       "conversionMethod": "pd.DataFrame",
       "ref": "f0373896-0eeb-4b8c-9482-4666f3ef635c",
       "rows": [
        [
         "0",
         "TSHIRT-001",
         "Classic White Tee",
         "100% cotton crew neck t-shirt",
         "white_tee.jpg",
         "Men's Top",
         "M",
         "19.99",
         "USD"
        ],
        [
         "1",
         "TSHIRT-002",
         "Classic White Tee",
         "100% cotton crew neck t-shirt",
         "white_tee.jpg",
         "Men's Top",
         "M",
         "19.99",
         "USD"
        ]
       ],
       "shape": {
        "columns": 8,
        "rows": 2
       }
      },
      "text/html": [
       "<div>\n",
       "<style scoped>\n",
       "    .dataframe tbody tr th:only-of-type {\n",
       "        vertical-align: middle;\n",
       "    }\n",
       "\n",
       "    .dataframe tbody tr th {\n",
       "        vertical-align: top;\n",
       "    }\n",
       "\n",
       "    .dataframe thead th {\n",
       "        text-align: right;\n",
       "    }\n",
       "</style>\n",
       "<table border=\"1\" class=\"dataframe\">\n",
       "  <thead>\n",
       "    <tr style=\"text-align: right;\">\n",
       "      <th></th>\n",
       "      <th>id</th>\n",
       "      <th>name</th>\n",
       "      <th>description</th>\n",
       "      <th>image_url</th>\n",
       "      <th>type</th>\n",
       "      <th>size</th>\n",
       "      <th>price</th>\n",
       "      <th>currency</th>\n",
       "    </tr>\n",
       "  </thead>\n",
       "  <tbody>\n",
       "    <tr>\n",
       "      <th>0</th>\n",
       "      <td>TSHIRT-001</td>\n",
       "      <td>Classic White Tee</td>\n",
       "      <td>100% cotton crew neck t-shirt</td>\n",
       "      <td>white_tee.jpg</td>\n",
       "      <td>Men's Top</td>\n",
       "      <td>M</td>\n",
       "      <td>19.99</td>\n",
       "      <td>USD</td>\n",
       "    </tr>\n",
       "    <tr>\n",
       "      <th>1</th>\n",
       "      <td>TSHIRT-002</td>\n",
       "      <td>Classic White Tee</td>\n",
       "      <td>100% cotton crew neck t-shirt</td>\n",
       "      <td>white_tee.jpg</td>\n",
       "      <td>Men's Top</td>\n",
       "      <td>M</td>\n",
       "      <td>19.99</td>\n",
       "      <td>USD</td>\n",
       "    </tr>\n",
       "  </tbody>\n",
       "</table>\n",
       "</div>"
      ],
      "text/plain": [
       "           id               name                    description  \\\n",
       "0  TSHIRT-001  Classic White Tee  100% cotton crew neck t-shirt   \n",
       "1  TSHIRT-002  Classic White Tee  100% cotton crew neck t-shirt   \n",
       "\n",
       "       image_url       type size  price currency  \n",
       "0  white_tee.jpg  Men's Top    M  19.99      USD  \n",
       "1  white_tee.jpg  Men's Top    M  19.99      USD  "
      ]
     },
     "metadata": {},
     "output_type": "display_data"
    }
   ],
   "source": [
    "with open('../databases/stock.json', 'r', encoding='utf-8') as f:\n",
    "    datas = json.load(f)\n",
    "df = pd.DataFrame(datas)\n",
    "display(df)\n",
    "df.to_excel('../databases/stock.xlsx', index=False, engine='openpyxl')"
   ]
  }
 ],
 "metadata": {
  "kernelspec": {
   "display_name": "Python 3",
   "language": "python",
   "name": "python3"
  },
  "language_info": {
   "codemirror_mode": {
    "name": "ipython",
    "version": 3
   },
   "file_extension": ".py",
   "mimetype": "text/x-python",
   "name": "python",
   "nbconvert_exporter": "python",
   "pygments_lexer": "ipython3",
   "version": "3.13.2"
  }
 },
 "nbformat": 4,
 "nbformat_minor": 5
}
